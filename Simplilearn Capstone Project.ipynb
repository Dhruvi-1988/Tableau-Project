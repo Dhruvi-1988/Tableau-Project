{
 "cells": [
  {
   "cell_type": "code",
   "execution_count": 1,
   "id": "02a1a006",
   "metadata": {},
   "outputs": [],
   "source": [
    "# import libraries\n",
    "\n",
    "import pandas as pd\n",
    "import numpy as np\n",
    "import matplotlib.pyplot as plt\n",
    "import seaborn as sns"
   ]
  },
  {
   "cell_type": "code",
   "execution_count": 2,
   "id": "6419a5ed",
   "metadata": {},
   "outputs": [],
   "source": [
    "# read dataset\n",
    "mydata=pd.read_csv(\"Salary_Data_Based_country_and_race.csv\")"
   ]
  },
  {
   "cell_type": "code",
   "execution_count": 3,
   "id": "ea4898d2",
   "metadata": {},
   "outputs": [
    {
     "data": {
      "text/html": [
       "<div>\n",
       "<style scoped>\n",
       "    .dataframe tbody tr th:only-of-type {\n",
       "        vertical-align: middle;\n",
       "    }\n",
       "\n",
       "    .dataframe tbody tr th {\n",
       "        vertical-align: top;\n",
       "    }\n",
       "\n",
       "    .dataframe thead th {\n",
       "        text-align: right;\n",
       "    }\n",
       "</style>\n",
       "<table border=\"1\" class=\"dataframe\">\n",
       "  <thead>\n",
       "    <tr style=\"text-align: right;\">\n",
       "      <th></th>\n",
       "      <th>Unique Number</th>\n",
       "      <th>Age</th>\n",
       "      <th>Gender</th>\n",
       "      <th>Education Level</th>\n",
       "      <th>Job Title</th>\n",
       "      <th>Years of Experience</th>\n",
       "      <th>Salary</th>\n",
       "      <th>Country</th>\n",
       "      <th>Race</th>\n",
       "    </tr>\n",
       "  </thead>\n",
       "  <tbody>\n",
       "    <tr>\n",
       "      <th>0</th>\n",
       "      <td>0</td>\n",
       "      <td>32.0</td>\n",
       "      <td>Male</td>\n",
       "      <td>Bachelor's</td>\n",
       "      <td>Software Engineer</td>\n",
       "      <td>5.0</td>\n",
       "      <td>90000.0</td>\n",
       "      <td>UK</td>\n",
       "      <td>White</td>\n",
       "    </tr>\n",
       "    <tr>\n",
       "      <th>1</th>\n",
       "      <td>1</td>\n",
       "      <td>28.0</td>\n",
       "      <td>Female</td>\n",
       "      <td>Master's</td>\n",
       "      <td>Data Analyst</td>\n",
       "      <td>3.0</td>\n",
       "      <td>65000.0</td>\n",
       "      <td>USA</td>\n",
       "      <td>Hispanic</td>\n",
       "    </tr>\n",
       "    <tr>\n",
       "      <th>2</th>\n",
       "      <td>2</td>\n",
       "      <td>45.0</td>\n",
       "      <td>Male</td>\n",
       "      <td>PhD</td>\n",
       "      <td>Senior Manager</td>\n",
       "      <td>15.0</td>\n",
       "      <td>150000.0</td>\n",
       "      <td>Canada</td>\n",
       "      <td>White</td>\n",
       "    </tr>\n",
       "    <tr>\n",
       "      <th>3</th>\n",
       "      <td>3</td>\n",
       "      <td>36.0</td>\n",
       "      <td>Female</td>\n",
       "      <td>Bachelor's</td>\n",
       "      <td>Sales Associate</td>\n",
       "      <td>7.0</td>\n",
       "      <td>60000.0</td>\n",
       "      <td>USA</td>\n",
       "      <td>Hispanic</td>\n",
       "    </tr>\n",
       "    <tr>\n",
       "      <th>4</th>\n",
       "      <td>4</td>\n",
       "      <td>52.0</td>\n",
       "      <td>Male</td>\n",
       "      <td>Master's</td>\n",
       "      <td>Director</td>\n",
       "      <td>20.0</td>\n",
       "      <td>200000.0</td>\n",
       "      <td>USA</td>\n",
       "      <td>Asian</td>\n",
       "    </tr>\n",
       "    <tr>\n",
       "      <th>...</th>\n",
       "      <td>...</td>\n",
       "      <td>...</td>\n",
       "      <td>...</td>\n",
       "      <td>...</td>\n",
       "      <td>...</td>\n",
       "      <td>...</td>\n",
       "      <td>...</td>\n",
       "      <td>...</td>\n",
       "      <td>...</td>\n",
       "    </tr>\n",
       "    <tr>\n",
       "      <th>6699</th>\n",
       "      <td>6699</td>\n",
       "      <td>49.0</td>\n",
       "      <td>Female</td>\n",
       "      <td>PhD</td>\n",
       "      <td>Director of Marketing</td>\n",
       "      <td>20.0</td>\n",
       "      <td>200000.0</td>\n",
       "      <td>UK</td>\n",
       "      <td>Mixed</td>\n",
       "    </tr>\n",
       "    <tr>\n",
       "      <th>6700</th>\n",
       "      <td>6700</td>\n",
       "      <td>32.0</td>\n",
       "      <td>Male</td>\n",
       "      <td>High School</td>\n",
       "      <td>Sales Associate</td>\n",
       "      <td>3.0</td>\n",
       "      <td>50000.0</td>\n",
       "      <td>Australia</td>\n",
       "      <td>Australian</td>\n",
       "    </tr>\n",
       "    <tr>\n",
       "      <th>6701</th>\n",
       "      <td>6701</td>\n",
       "      <td>30.0</td>\n",
       "      <td>Female</td>\n",
       "      <td>Bachelor's Degree</td>\n",
       "      <td>Financial Manager</td>\n",
       "      <td>4.0</td>\n",
       "      <td>55000.0</td>\n",
       "      <td>China</td>\n",
       "      <td>Chinese</td>\n",
       "    </tr>\n",
       "    <tr>\n",
       "      <th>6702</th>\n",
       "      <td>6702</td>\n",
       "      <td>46.0</td>\n",
       "      <td>Male</td>\n",
       "      <td>Master's Degree</td>\n",
       "      <td>Marketing Manager</td>\n",
       "      <td>14.0</td>\n",
       "      <td>140000.0</td>\n",
       "      <td>China</td>\n",
       "      <td>Korean</td>\n",
       "    </tr>\n",
       "    <tr>\n",
       "      <th>6703</th>\n",
       "      <td>6703</td>\n",
       "      <td>26.0</td>\n",
       "      <td>Female</td>\n",
       "      <td>High School</td>\n",
       "      <td>Sales Executive</td>\n",
       "      <td>1.0</td>\n",
       "      <td>35000.0</td>\n",
       "      <td>Canada</td>\n",
       "      <td>Black</td>\n",
       "    </tr>\n",
       "  </tbody>\n",
       "</table>\n",
       "<p>6704 rows × 9 columns</p>\n",
       "</div>"
      ],
      "text/plain": [
       "      Unique Number   Age  Gender    Education Level              Job Title  \\\n",
       "0                 0  32.0    Male         Bachelor's      Software Engineer   \n",
       "1                 1  28.0  Female           Master's           Data Analyst   \n",
       "2                 2  45.0    Male                PhD         Senior Manager   \n",
       "3                 3  36.0  Female         Bachelor's        Sales Associate   \n",
       "4                 4  52.0    Male           Master's               Director   \n",
       "...             ...   ...     ...                ...                    ...   \n",
       "6699           6699  49.0  Female                PhD  Director of Marketing   \n",
       "6700           6700  32.0    Male        High School        Sales Associate   \n",
       "6701           6701  30.0  Female  Bachelor's Degree      Financial Manager   \n",
       "6702           6702  46.0    Male    Master's Degree      Marketing Manager   \n",
       "6703           6703  26.0  Female        High School        Sales Executive   \n",
       "\n",
       "      Years of Experience    Salary    Country        Race  \n",
       "0                     5.0   90000.0         UK       White  \n",
       "1                     3.0   65000.0        USA    Hispanic  \n",
       "2                    15.0  150000.0     Canada       White  \n",
       "3                     7.0   60000.0        USA    Hispanic  \n",
       "4                    20.0  200000.0        USA       Asian  \n",
       "...                   ...       ...        ...         ...  \n",
       "6699                 20.0  200000.0         UK       Mixed  \n",
       "6700                  3.0   50000.0  Australia  Australian  \n",
       "6701                  4.0   55000.0      China     Chinese  \n",
       "6702                 14.0  140000.0      China      Korean  \n",
       "6703                  1.0   35000.0     Canada       Black  \n",
       "\n",
       "[6704 rows x 9 columns]"
      ]
     },
     "execution_count": 3,
     "metadata": {},
     "output_type": "execute_result"
    }
   ],
   "source": [
    "mydata"
   ]
  },
  {
   "cell_type": "code",
   "execution_count": 4,
   "id": "b4ba62f3",
   "metadata": {},
   "outputs": [
    {
     "name": "stdout",
     "output_type": "stream",
     "text": [
      "<class 'pandas.core.frame.DataFrame'>\n",
      "RangeIndex: 6704 entries, 0 to 6703\n",
      "Data columns (total 9 columns):\n",
      " #   Column               Non-Null Count  Dtype  \n",
      "---  ------               --------------  -----  \n",
      " 0   Unique Number        6704 non-null   int64  \n",
      " 1   Age                  6702 non-null   float64\n",
      " 2   Gender               6702 non-null   object \n",
      " 3   Education Level      6701 non-null   object \n",
      " 4   Job Title            6702 non-null   object \n",
      " 5   Years of Experience  6701 non-null   float64\n",
      " 6   Salary               6699 non-null   float64\n",
      " 7   Country              6704 non-null   object \n",
      " 8   Race                 6704 non-null   object \n",
      "dtypes: float64(3), int64(1), object(5)\n",
      "memory usage: 471.5+ KB\n"
     ]
    }
   ],
   "source": [
    "mydata.info()"
   ]
  },
  {
   "cell_type": "code",
   "execution_count": 5,
   "id": "a0724f56",
   "metadata": {},
   "outputs": [
    {
     "data": {
      "text/html": [
       "<div>\n",
       "<style scoped>\n",
       "    .dataframe tbody tr th:only-of-type {\n",
       "        vertical-align: middle;\n",
       "    }\n",
       "\n",
       "    .dataframe tbody tr th {\n",
       "        vertical-align: top;\n",
       "    }\n",
       "\n",
       "    .dataframe thead th {\n",
       "        text-align: right;\n",
       "    }\n",
       "</style>\n",
       "<table border=\"1\" class=\"dataframe\">\n",
       "  <thead>\n",
       "    <tr style=\"text-align: right;\">\n",
       "      <th></th>\n",
       "      <th>Unique Number</th>\n",
       "      <th>Age</th>\n",
       "      <th>Years of Experience</th>\n",
       "      <th>Salary</th>\n",
       "    </tr>\n",
       "  </thead>\n",
       "  <tbody>\n",
       "    <tr>\n",
       "      <th>count</th>\n",
       "      <td>6704.000000</td>\n",
       "      <td>6702.000000</td>\n",
       "      <td>6701.000000</td>\n",
       "      <td>6699.000000</td>\n",
       "    </tr>\n",
       "    <tr>\n",
       "      <th>mean</th>\n",
       "      <td>3351.500000</td>\n",
       "      <td>33.620859</td>\n",
       "      <td>8.094687</td>\n",
       "      <td>115326.964771</td>\n",
       "    </tr>\n",
       "    <tr>\n",
       "      <th>std</th>\n",
       "      <td>1935.422435</td>\n",
       "      <td>7.614633</td>\n",
       "      <td>6.059003</td>\n",
       "      <td>52786.183911</td>\n",
       "    </tr>\n",
       "    <tr>\n",
       "      <th>min</th>\n",
       "      <td>0.000000</td>\n",
       "      <td>21.000000</td>\n",
       "      <td>0.000000</td>\n",
       "      <td>350.000000</td>\n",
       "    </tr>\n",
       "    <tr>\n",
       "      <th>25%</th>\n",
       "      <td>1675.750000</td>\n",
       "      <td>28.000000</td>\n",
       "      <td>3.000000</td>\n",
       "      <td>70000.000000</td>\n",
       "    </tr>\n",
       "    <tr>\n",
       "      <th>50%</th>\n",
       "      <td>3351.500000</td>\n",
       "      <td>32.000000</td>\n",
       "      <td>7.000000</td>\n",
       "      <td>115000.000000</td>\n",
       "    </tr>\n",
       "    <tr>\n",
       "      <th>75%</th>\n",
       "      <td>5027.250000</td>\n",
       "      <td>38.000000</td>\n",
       "      <td>12.000000</td>\n",
       "      <td>160000.000000</td>\n",
       "    </tr>\n",
       "    <tr>\n",
       "      <th>max</th>\n",
       "      <td>6703.000000</td>\n",
       "      <td>62.000000</td>\n",
       "      <td>34.000000</td>\n",
       "      <td>250000.000000</td>\n",
       "    </tr>\n",
       "  </tbody>\n",
       "</table>\n",
       "</div>"
      ],
      "text/plain": [
       "       Unique Number          Age  Years of Experience         Salary\n",
       "count    6704.000000  6702.000000          6701.000000    6699.000000\n",
       "mean     3351.500000    33.620859             8.094687  115326.964771\n",
       "std      1935.422435     7.614633             6.059003   52786.183911\n",
       "min         0.000000    21.000000             0.000000     350.000000\n",
       "25%      1675.750000    28.000000             3.000000   70000.000000\n",
       "50%      3351.500000    32.000000             7.000000  115000.000000\n",
       "75%      5027.250000    38.000000            12.000000  160000.000000\n",
       "max      6703.000000    62.000000            34.000000  250000.000000"
      ]
     },
     "execution_count": 5,
     "metadata": {},
     "output_type": "execute_result"
    }
   ],
   "source": [
    "mydata.describe()"
   ]
  },
  {
   "cell_type": "markdown",
   "id": "220d9b13",
   "metadata": {},
   "source": [
    "# Check for the missing values"
   ]
  },
  {
   "cell_type": "code",
   "execution_count": 6,
   "id": "3e60f43b",
   "metadata": {},
   "outputs": [
    {
     "data": {
      "text/plain": [
       "Unique Number          0\n",
       "Age                    2\n",
       "Gender                 2\n",
       "Education Level        3\n",
       "Job Title              2\n",
       "Years of Experience    3\n",
       "Salary                 5\n",
       "Country                0\n",
       "Race                   0\n",
       "dtype: int64"
      ]
     },
     "execution_count": 6,
     "metadata": {},
     "output_type": "execute_result"
    }
   ],
   "source": [
    "mydata.isna().sum()"
   ]
  },
  {
   "cell_type": "markdown",
   "id": "2c735fb0",
   "metadata": {},
   "source": [
    "# Drop the null values\n"
   ]
  },
  {
   "cell_type": "code",
   "execution_count": 7,
   "id": "f2c8c2cf",
   "metadata": {},
   "outputs": [],
   "source": [
    "mydata.dropna(inplace=True)"
   ]
  },
  {
   "cell_type": "code",
   "execution_count": 8,
   "id": "edf53a4c",
   "metadata": {},
   "outputs": [
    {
     "name": "stdout",
     "output_type": "stream",
     "text": [
      "<class 'pandas.core.frame.DataFrame'>\n",
      "Int64Index: 6698 entries, 0 to 6703\n",
      "Data columns (total 9 columns):\n",
      " #   Column               Non-Null Count  Dtype  \n",
      "---  ------               --------------  -----  \n",
      " 0   Unique Number        6698 non-null   int64  \n",
      " 1   Age                  6698 non-null   float64\n",
      " 2   Gender               6698 non-null   object \n",
      " 3   Education Level      6698 non-null   object \n",
      " 4   Job Title            6698 non-null   object \n",
      " 5   Years of Experience  6698 non-null   float64\n",
      " 6   Salary               6698 non-null   float64\n",
      " 7   Country              6698 non-null   object \n",
      " 8   Race                 6698 non-null   object \n",
      "dtypes: float64(3), int64(1), object(5)\n",
      "memory usage: 523.3+ KB\n"
     ]
    }
   ],
   "source": [
    "mydata.info()"
   ]
  },
  {
   "cell_type": "markdown",
   "id": "a061a8f0",
   "metadata": {},
   "source": [
    "# Check for the categories"
   ]
  },
  {
   "cell_type": "code",
   "execution_count": 9,
   "id": "43569d8b",
   "metadata": {},
   "outputs": [
    {
     "data": {
      "text/plain": [
       "Male      3671\n",
       "Female    3013\n",
       "Other       14\n",
       "Name: Gender, dtype: int64"
      ]
     },
     "execution_count": 9,
     "metadata": {},
     "output_type": "execute_result"
    }
   ],
   "source": [
    "mydata[\"Gender\"].value_counts(dropna=False)"
   ]
  },
  {
   "cell_type": "code",
   "execution_count": 10,
   "id": "fff400b3",
   "metadata": {},
   "outputs": [
    {
     "data": {
      "text/plain": [
       "Bachelor's Degree    2265\n",
       "Master's Degree      1572\n",
       "PhD                  1368\n",
       "Bachelor's            756\n",
       "High School           448\n",
       "Master's              288\n",
       "phD                     1\n",
       "Name: Education Level, dtype: int64"
      ]
     },
     "execution_count": 10,
     "metadata": {},
     "output_type": "execute_result"
    }
   ],
   "source": [
    "mydata[\"Education Level\"].value_counts(dropna=False)"
   ]
  },
  {
   "cell_type": "code",
   "execution_count": 11,
   "id": "ab4e2631",
   "metadata": {},
   "outputs": [
    {
     "data": {
      "text/plain": [
       "Software Engineer             518\n",
       "Data Scientist                453\n",
       "Software Engineer Manager     376\n",
       "Data Analyst                  363\n",
       "Senior Project Engineer       318\n",
       "                             ... \n",
       "Account Manager                 1\n",
       "Help Desk Analyst               1\n",
       "Senior Training Specialist      1\n",
       "Junior Web Designer             1\n",
       "Software Project Manager        1\n",
       "Name: Job Title, Length: 191, dtype: int64"
      ]
     },
     "execution_count": 11,
     "metadata": {},
     "output_type": "execute_result"
    }
   ],
   "source": [
    "mydata[\"Job Title\"].value_counts(dropna=False)"
   ]
  },
  {
   "cell_type": "code",
   "execution_count": 12,
   "id": "b38b3448",
   "metadata": {},
   "outputs": [
    {
     "data": {
      "text/plain": [
       "USA          1359\n",
       "China        1343\n",
       "Australia    1336\n",
       "UK           1335\n",
       "Canada       1325\n",
       "Name: Country, dtype: int64"
      ]
     },
     "execution_count": 12,
     "metadata": {},
     "output_type": "execute_result"
    }
   ],
   "source": [
    "mydata[\"Country\"].value_counts(dropna=False)"
   ]
  },
  {
   "cell_type": "code",
   "execution_count": 13,
   "id": "417fdda6",
   "metadata": {},
   "outputs": [
    {
     "data": {
      "text/plain": [
       "White               1962\n",
       "Asian               1603\n",
       "Korean               457\n",
       "Australian           452\n",
       "Chinese              444\n",
       "Black                437\n",
       "African American     354\n",
       "Mixed                334\n",
       "Welsh                333\n",
       "Hispanic             322\n",
       "Name: Race, dtype: int64"
      ]
     },
     "execution_count": 13,
     "metadata": {},
     "output_type": "execute_result"
    }
   ],
   "source": [
    "mydata[\"Race\"].value_counts(dropna=False)"
   ]
  },
  {
   "cell_type": "code",
   "execution_count": 14,
   "id": "87259efc",
   "metadata": {},
   "outputs": [],
   "source": [
    "#Education Level has repeatative degree (Eg. Bachelor's Degree and Bachelor's). Here, I merged same named degree categories.\n",
    "\n",
    "mydata[\"Education Level\"].replace(\"Bachelor's Degree\",\"Bachelor\", inplace=True)\n",
    "mydata[\"Education Level\"].replace(\"Bachelor's\",\"Bachelor\", inplace=True)\n",
    "mydata[\"Education Level\"].replace(\"Master's Degree\",\"Master\", inplace=True)\n",
    "mydata[\"Education Level\"].replace(\"Master's\",\"Master\",inplace=True)\n",
    "mydata[\"Education Level\"].replace(\"PhD\",\"PhD\", inplace=True)\n",
    "mydata[\"Education Level\"].replace(\"phD\",\"PhD\", inplace=True)\n"
   ]
  },
  {
   "cell_type": "code",
   "execution_count": 15,
   "id": "26468516",
   "metadata": {},
   "outputs": [
    {
     "data": {
      "text/plain": [
       "Bachelor       3021\n",
       "Master         1860\n",
       "PhD            1369\n",
       "High School     448\n",
       "Name: Education Level, dtype: int64"
      ]
     },
     "execution_count": 15,
     "metadata": {},
     "output_type": "execute_result"
    }
   ],
   "source": [
    "mydata[\"Education Level\"].value_counts(dropna=False)"
   ]
  },
  {
   "cell_type": "code",
   "execution_count": 18,
   "id": "70069fe6",
   "metadata": {},
   "outputs": [],
   "source": [
    "mydata.to_excel(r'D:\\Simpli Learn- Data Analytics Bootcamp\\Final Project\\Cleaned Salary dataset.xlsx', index=False)"
   ]
  },
  {
   "cell_type": "code",
   "execution_count": null,
   "id": "2012a418",
   "metadata": {},
   "outputs": [],
   "source": []
  }
 ],
 "metadata": {
  "kernelspec": {
   "display_name": "Python 3 (ipykernel)",
   "language": "python",
   "name": "python3"
  },
  "language_info": {
   "codemirror_mode": {
    "name": "ipython",
    "version": 3
   },
   "file_extension": ".py",
   "mimetype": "text/x-python",
   "name": "python",
   "nbconvert_exporter": "python",
   "pygments_lexer": "ipython3",
   "version": "3.9.7"
  }
 },
 "nbformat": 4,
 "nbformat_minor": 5
}
